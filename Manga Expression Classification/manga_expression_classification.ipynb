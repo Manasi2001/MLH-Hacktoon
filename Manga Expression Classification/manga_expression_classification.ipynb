{
 "cells": [
  {
   "cell_type": "markdown",
   "metadata": {},
   "source": [
    "# MANGA ANIME EXPRESSION CLASSIFICATION"
   ]
  },
  {
   "cell_type": "markdown",
   "metadata": {},
   "source": [
    "### Importing Libraries"
   ]
  },
  {
   "cell_type": "code",
   "execution_count": 1,
   "metadata": {},
   "outputs": [],
   "source": [
    "import numpy as np\n",
    "import pandas as pd\n",
    "import os\n",
    "import matplotlib.pyplot as plt\n",
    "import tensorflow as tf\n",
    "\n",
    "from tensorflow.keras.utils import to_categorical\n",
    "from tensorflow.keras.preprocessing.image import load_img, img_to_array\n",
    "from tensorflow.python.keras.preprocessing.image import ImageDataGenerator\n",
    "\n",
    "from sklearn.metrics import classification_report, log_loss, accuracy_score\n",
    "from sklearn.model_selection import train_test_split"
   ]
  },
  {
   "cell_type": "markdown",
   "metadata": {},
   "source": [
    "### Getting our Data"
   ]
  },
  {
   "cell_type": "code",
   "execution_count": 2,
   "metadata": {},
   "outputs": [],
   "source": [
    "directory = '../Manga Expression Classification/Dataset'"
   ]
  },
  {
   "cell_type": "code",
   "execution_count": 3,
   "metadata": {},
   "outputs": [
    {
     "name": "stdout",
     "output_type": "stream",
     "text": [
      "['angry', 'crying', 'embarrassed', 'happy', 'pleased', 'sad', 'shock']\n",
      "7\n"
     ]
    }
   ],
   "source": [
    "Name=[]\n",
    "for file in os.listdir(directory):\n",
    "    Name+=[file]\n",
    "print(Name)\n",
    "print(len(Name))"
   ]
  },
  {
   "cell_type": "markdown",
   "metadata": {},
   "source": [
    "### Manipulating the Images"
   ]
  },
  {
   "cell_type": "code",
   "execution_count": 4,
   "metadata": {},
   "outputs": [],
   "source": [
    "N=[]\n",
    "for i in range(len(Name)):\n",
    "    N+=[i]\n",
    "    \n",
    "normal_mapping=dict(zip(Name,N)) \n",
    "reverse_mapping=dict(zip(N,Name)) \n",
    "\n",
    "def mapper(value):\n",
    "    return reverse_mapping[value]    "
   ]
  },
  {
   "cell_type": "code",
   "execution_count": 5,
   "metadata": {},
   "outputs": [],
   "source": [
    "dataset=[]\n",
    "testset=[]\n",
    "count=0\n",
    "for file in os.listdir(directory):\n",
    "    path=os.path.join(directory,file)\n",
    "    t=0\n",
    "    for im in os.listdir(path):\n",
    "        image=load_img(os.path.join(path,im), grayscale=False, color_mode='rgb', target_size=(100,100))\n",
    "        image=img_to_array(image)\n",
    "        image=image/255.0\n",
    "        if t<40:\n",
    "            dataset.append([image,count])\n",
    "        else:\n",
    "            testset.append([image,count])\n",
    "        t+=1\n",
    "    count=count+1"
   ]
  },
  {
   "cell_type": "code",
   "execution_count": 6,
   "metadata": {},
   "outputs": [],
   "source": [
    "data,labels0=zip(*dataset)\n",
    "test,tlabels0=zip(*testset)"
   ]
  },
  {
   "cell_type": "code",
   "execution_count": 7,
   "metadata": {},
   "outputs": [],
   "source": [
    "labels1=to_categorical(labels0)\n",
    "data=np.array(data)\n",
    "labels=np.array(labels1)"
   ]
  },
  {
   "cell_type": "code",
   "execution_count": 8,
   "metadata": {},
   "outputs": [],
   "source": [
    "tlabels1=to_categorical(tlabels0)\n",
    "test=np.array(test)\n",
    "tlabels=np.array(tlabels1)"
   ]
  },
  {
   "cell_type": "code",
   "execution_count": 9,
   "metadata": {},
   "outputs": [],
   "source": [
    "data2=data.reshape(-1,100,100,3)\n",
    "test2=test.reshape(-1,100,100,3)"
   ]
  },
  {
   "cell_type": "markdown",
   "metadata": {},
   "source": [
    "### Splitting for Training and Testing"
   ]
  },
  {
   "cell_type": "code",
   "execution_count": 10,
   "metadata": {},
   "outputs": [],
   "source": [
    "trainx,testx,trainy,testy=train_test_split(data,labels,test_size=0.2,random_state=44)"
   ]
  },
  {
   "cell_type": "code",
   "execution_count": 11,
   "metadata": {},
   "outputs": [
    {
     "name": "stdout",
     "output_type": "stream",
     "text": [
      "(221, 100, 100, 3)\n",
      "(56, 100, 100, 3)\n",
      "(221, 7)\n",
      "(56, 7)\n"
     ]
    }
   ],
   "source": [
    "print(trainx.shape)\n",
    "print(testx.shape)\n",
    "print(trainy.shape)\n",
    "print(testy.shape)"
   ]
  },
  {
   "cell_type": "code",
   "execution_count": 12,
   "metadata": {},
   "outputs": [],
   "source": [
    "datagen = ImageDataGenerator(horizontal_flip=True,vertical_flip=True,rotation_range=20,zoom_range=0.2,\n",
    "                        width_shift_range=0.2,height_shift_range=0.2,shear_range=0.1,fill_mode=\"nearest\")"
   ]
  },
  {
   "cell_type": "code",
   "execution_count": 13,
   "metadata": {},
   "outputs": [],
   "source": [
    "pretrained_model3 = tf.keras.applications.DenseNet201(input_shape=(100,100,3),include_top=False,weights='imagenet',pooling='avg')\n",
    "pretrained_model3.trainable = False"
   ]
  },
  {
   "cell_type": "code",
   "execution_count": 14,
   "metadata": {},
   "outputs": [],
   "source": [
    "inputs3 = pretrained_model3.input\n",
    "x3 = tf.keras.layers.Dense(128, activation='relu')(pretrained_model3.output)\n",
    "outputs3 = tf.keras.layers.Dense(7, activation='softmax')(x3)\n",
    "model = tf.keras.Model(inputs=inputs3, outputs=outputs3)"
   ]
  },
  {
   "cell_type": "code",
   "execution_count": 15,
   "metadata": {},
   "outputs": [],
   "source": [
    "model.compile(optimizer='adam',loss='categorical_crossentropy',metrics=['accuracy'])"
   ]
  },
  {
   "cell_type": "markdown",
   "metadata": {},
   "source": [
    "### Fitting the Model"
   ]
  },
  {
   "cell_type": "code",
   "execution_count": 16,
   "metadata": {},
   "outputs": [
    {
     "name": "stdout",
     "output_type": "stream",
     "text": [
      "Epoch 1/30\n",
      "7/7 [==============================] - 14s 1s/step - loss: 2.3284 - accuracy: 0.1312 - val_loss: 2.4470 - val_accuracy: 0.1071\n",
      "Epoch 2/30\n",
      "7/7 [==============================] - 6s 935ms/step - loss: 2.0524 - accuracy: 0.2805 - val_loss: 2.0743 - val_accuracy: 0.1607\n",
      "Epoch 3/30\n",
      "7/7 [==============================] - 6s 918ms/step - loss: 1.7764 - accuracy: 0.3167 - val_loss: 2.0558 - val_accuracy: 0.1964\n",
      "Epoch 4/30\n",
      "7/7 [==============================] - 6s 915ms/step - loss: 1.6649 - accuracy: 0.4118 - val_loss: 2.0128 - val_accuracy: 0.1786\n",
      "Epoch 5/30\n",
      "7/7 [==============================] - 6s 907ms/step - loss: 1.5687 - accuracy: 0.4208 - val_loss: 1.9755 - val_accuracy: 0.2143\n",
      "Epoch 6/30\n",
      "7/7 [==============================] - 9s 1s/step - loss: 1.5514 - accuracy: 0.4344 - val_loss: 1.9912 - val_accuracy: 0.2679\n",
      "Epoch 7/30\n",
      "7/7 [==============================] - 8s 1s/step - loss: 1.4984 - accuracy: 0.4389 - val_loss: 1.8092 - val_accuracy: 0.3036\n",
      "Epoch 8/30\n",
      "7/7 [==============================] - 8s 1s/step - loss: 1.4717 - accuracy: 0.4389 - val_loss: 1.9708 - val_accuracy: 0.2857\n",
      "Epoch 9/30\n",
      "7/7 [==============================] - 8s 1s/step - loss: 1.3621 - accuracy: 0.5294 - val_loss: 1.8761 - val_accuracy: 0.2679\n",
      "Epoch 10/30\n",
      "7/7 [==============================] - 8s 1s/step - loss: 1.4322 - accuracy: 0.5611 - val_loss: 2.2369 - val_accuracy: 0.2500\n",
      "Epoch 11/30\n",
      "7/7 [==============================] - 8s 1s/step - loss: 1.3084 - accuracy: 0.5475 - val_loss: 1.9514 - val_accuracy: 0.2679\n",
      "Epoch 12/30\n",
      "7/7 [==============================] - 8s 1s/step - loss: 1.2498 - accuracy: 0.5611 - val_loss: 1.9454 - val_accuracy: 0.3036\n",
      "Epoch 13/30\n",
      "7/7 [==============================] - 8s 1s/step - loss: 1.2178 - accuracy: 0.5339 - val_loss: 1.9777 - val_accuracy: 0.2857\n",
      "Epoch 14/30\n",
      "7/7 [==============================] - 8s 1s/step - loss: 1.1246 - accuracy: 0.5882 - val_loss: 1.8658 - val_accuracy: 0.3214\n",
      "Epoch 15/30\n",
      "7/7 [==============================] - 8s 1s/step - loss: 1.1281 - accuracy: 0.6154 - val_loss: 1.7603 - val_accuracy: 0.3214\n",
      "Epoch 16/30\n",
      "7/7 [==============================] - 9s 1s/step - loss: 1.1954 - accuracy: 0.5656 - val_loss: 1.8159 - val_accuracy: 0.4107\n",
      "Epoch 17/30\n",
      "7/7 [==============================] - 8s 1s/step - loss: 1.1173 - accuracy: 0.6154 - val_loss: 1.8075 - val_accuracy: 0.3750\n",
      "Epoch 18/30\n",
      "7/7 [==============================] - 8s 1s/step - loss: 1.0782 - accuracy: 0.5973 - val_loss: 1.7382 - val_accuracy: 0.4286\n",
      "Epoch 19/30\n",
      "7/7 [==============================] - 8s 1s/step - loss: 1.1149 - accuracy: 0.5973 - val_loss: 1.7945 - val_accuracy: 0.3214\n",
      "Epoch 20/30\n",
      "7/7 [==============================] - 8s 1s/step - loss: 1.0091 - accuracy: 0.6425 - val_loss: 1.7082 - val_accuracy: 0.5179\n",
      "Epoch 21/30\n",
      "7/7 [==============================] - 8s 1s/step - loss: 1.1449 - accuracy: 0.5928 - val_loss: 1.9759 - val_accuracy: 0.3393\n",
      "Epoch 22/30\n",
      "7/7 [==============================] - 8s 1s/step - loss: 1.0167 - accuracy: 0.6109 - val_loss: 1.7032 - val_accuracy: 0.4107\n",
      "Epoch 23/30\n",
      "7/7 [==============================] - 8s 1s/step - loss: 1.0872 - accuracy: 0.6425 - val_loss: 1.8300 - val_accuracy: 0.3750\n",
      "Epoch 24/30\n",
      "7/7 [==============================] - 8s 1s/step - loss: 0.9638 - accuracy: 0.6652 - val_loss: 1.6528 - val_accuracy: 0.3929\n",
      "Epoch 25/30\n",
      "7/7 [==============================] - 9s 1s/step - loss: 1.0259 - accuracy: 0.6109 - val_loss: 1.9436 - val_accuracy: 0.3929\n",
      "Epoch 26/30\n",
      "7/7 [==============================] - 9s 1s/step - loss: 1.0781 - accuracy: 0.6244 - val_loss: 1.6569 - val_accuracy: 0.4464\n",
      "Epoch 27/30\n",
      "7/7 [==============================] - 7s 1s/step - loss: 0.8976 - accuracy: 0.6652 - val_loss: 1.9376 - val_accuracy: 0.3571\n",
      "Epoch 28/30\n",
      "7/7 [==============================] - 7s 1s/step - loss: 0.9416 - accuracy: 0.6471 - val_loss: 1.8499 - val_accuracy: 0.4107\n",
      "Epoch 29/30\n",
      "7/7 [==============================] - 8s 1s/step - loss: 0.8920 - accuracy: 0.6923 - val_loss: 1.8422 - val_accuracy: 0.4286\n",
      "Epoch 30/30\n",
      "7/7 [==============================] - 7s 1s/step - loss: 0.8847 - accuracy: 0.6787 - val_loss: 1.8637 - val_accuracy: 0.3929\n"
     ]
    }
   ],
   "source": [
    "his=model.fit(datagen.flow(trainx,trainy,batch_size=32),validation_data=(testx,testy),epochs=30)"
   ]
  },
  {
   "cell_type": "markdown",
   "metadata": {},
   "source": [
    "### Making Predictions"
   ]
  },
  {
   "cell_type": "code",
   "execution_count": 17,
   "metadata": {},
   "outputs": [
    {
     "name": "stdout",
     "output_type": "stream",
     "text": [
      "              precision    recall  f1-score   support\n",
      "\n",
      "           0       0.29      0.67      0.40         6\n",
      "           1       0.75      0.23      0.35        13\n",
      "           2       0.25      0.33      0.29         6\n",
      "           3       0.60      0.38      0.46         8\n",
      "           4       0.45      0.56      0.50         9\n",
      "           5       0.14      0.14      0.14         7\n",
      "           6       0.57      0.57      0.57         7\n",
      "\n",
      "    accuracy                           0.39        56\n",
      "   macro avg       0.44      0.41      0.39        56\n",
      "weighted avg       0.48      0.39      0.39        56\n",
      "\n"
     ]
    }
   ],
   "source": [
    "y_pred=model.predict(testx)\n",
    "pred=np.argmax(y_pred,axis=1)\n",
    "ground = np.argmax(testy,axis=1)\n",
    "print(classification_report(ground,pred))"
   ]
  },
  {
   "cell_type": "markdown",
   "metadata": {},
   "source": [
    "### Checking Accuracy"
   ]
  },
  {
   "cell_type": "code",
   "execution_count": 18,
   "metadata": {},
   "outputs": [
    {
     "data": {
      "image/png": "[encoded data removed]",
      "text/plain": [
       "<Figure size 432x288 with 1 Axes>"
      ]
     },
     "metadata": {
      "needs_background": "light"
     },
     "output_type": "display_data"
    },
    {
     "data": {
      "text/plain": [
       "<Figure size 432x288 with 0 Axes>"
      ]
     },
     "metadata": {},
     "output_type": "display_data"
    }
   ],
   "source": [
    "get_acc = his.history['accuracy']\n",
    "value_acc = his.history['val_accuracy']\n",
    "get_loss = his.history['loss']\n",
    "validation_loss = his.history['val_loss']\n",
    "\n",
    "epochs = range(len(get_acc))\n",
    "plt.plot(epochs, get_acc, 'r', label='Accuracy of Training data')\n",
    "plt.plot(epochs, value_acc, 'b', label='Accuracy of Validation data')\n",
    "plt.title('Training vs validation accuracy')\n",
    "plt.legend(loc=0)\n",
    "plt.figure()\n",
    "plt.show()"
   ]
  },
  {
   "cell_type": "code",
   "execution_count": 19,
   "metadata": {},
   "outputs": [
    {
     "data": {
      "image/png": "[encoded data removed]",
      "text/plain": [
       "<Figure size 432x288 with 1 Axes>"
      ]
     },
     "metadata": {
      "needs_background": "light"
     },
     "output_type": "display_data"
    },
    {
     "data": {
      "text/plain": [
       "<Figure size 432x288 with 0 Axes>"
      ]
     },
     "metadata": {},
     "output_type": "display_data"
    }
   ],
   "source": [
    "epochs = range(len(get_loss))\n",
    "plt.plot(epochs, get_loss, 'r', label='Loss of Training data')\n",
    "plt.plot(epochs, validation_loss, 'b', label='Loss of Validation data')\n",
    "plt.title('Training vs validation loss')\n",
    "plt.legend(loc=0)\n",
    "plt.figure()\n",
    "plt.show()"
   ]
  },
  {
   "cell_type": "markdown",
   "metadata": {},
   "source": [
    "### Testing the Model with one of the image from the Dataset"
   ]
  },
  {
   "cell_type": "code",
   "execution_count": 20,
   "metadata": {},
   "outputs": [
    {
     "data": {
      "image/png": "[encoded data removed]",
      "text/plain": [
       "<PIL.Image.Image image mode=RGB size=100x100 at 0x2159395B7C0>"
      ]
     },
     "execution_count": 20,
     "metadata": {},
     "output_type": "execute_result"
    }
   ],
   "source": [
    "load_img(\"../Manga Expression Classification/Dataset/shock/011_687_496_112_112.png\",target_size=(100,100))"
   ]
  },
  {
   "cell_type": "code",
   "execution_count": 21,
   "metadata": {},
   "outputs": [],
   "source": [
    "image=load_img(\"../Manga Expression Classification/Dataset/shock/011_687_496_112_112.png\",target_size=(100,100))\n",
    "\n",
    "image=img_to_array(image) \n",
    "image=image/255.0\n",
    "prediction_image=np.array(image)\n",
    "prediction_image= np.expand_dims(image, axis=0)"
   ]
  },
  {
   "cell_type": "code",
   "execution_count": 22,
   "metadata": {},
   "outputs": [
    {
     "name": "stdout",
     "output_type": "stream",
     "text": [
      "Prediction is shock.\n"
     ]
    }
   ],
   "source": [
    "prediction=model.predict(prediction_image)\n",
    "value=np.argmax(prediction)\n",
    "move_name=mapper(value)\n",
    "print(\"Prediction is {}.\".format(move_name))"
   ]
  },
  {
   "cell_type": "code",
   "execution_count": 23,
   "metadata": {},
   "outputs": [],
   "source": [
    "# Prediction is correct!!"
   ]
  },
  {
   "cell_type": "code",
   "execution_count": 24,
   "metadata": {},
   "outputs": [
    {
     "name": "stdout",
     "output_type": "stream",
     "text": [
      "(178, 100, 100, 3)\n",
      "(178, 7)\n"
     ]
    }
   ],
   "source": [
    "print(test.shape)\n",
    "prediction2=model.predict(test)\n",
    "print(prediction2.shape)\n",
    "\n",
    "PRED=[]\n",
    "for item in prediction2:\n",
    "    value2=np.argmax(item)      \n",
    "    PRED+=[value2]"
   ]
  },
  {
   "cell_type": "code",
   "execution_count": 25,
   "metadata": {},
   "outputs": [],
   "source": [
    "ANS=tlabels0"
   ]
  },
  {
   "cell_type": "code",
   "execution_count": 26,
   "metadata": {},
   "outputs": [
    {
     "name": "stdout",
     "output_type": "stream",
     "text": [
      "0.24157303370786518\n"
     ]
    }
   ],
   "source": [
    "accuracy=accuracy_score(ANS,PRED)\n",
    "print(accuracy)"
   ]
  },
  {
   "cell_type": "code",
   "execution_count": 27,
   "metadata": {},
   "outputs": [],
   "source": [
    "# Accuracy is not that much. But using different techniques, can definitely be boosted."
   ]
  },
  {
   "cell_type": "markdown",
   "metadata": {},
   "source": [
    "### Testing a totally New Image"
   ]
  },
  {
   "cell_type": "code",
   "execution_count": 28,
   "metadata": {},
   "outputs": [
    {
     "data": {
      "image/png": "[encoded data removed]",
      "text/plain": [
       "<PIL.Image.Image image mode=RGB size=100x100 at 0x21583341F10>"
      ]
     },
     "execution_count": 28,
     "metadata": {},
     "output_type": "execute_result"
    }
   ],
   "source": [
    "load_img(\"../Manga Expression Classification/test_img.png\",target_size=(100,100))"
   ]
  },
  {
   "cell_type": "code",
   "execution_count": 29,
   "metadata": {},
   "outputs": [
    {
     "name": "stdout",
     "output_type": "stream",
     "text": [
      "Prediction is pleased.\n"
     ]
    }
   ],
   "source": [
    "image=load_img(\"../Manga Expression Classification/test_img.png\",target_size=(100,100))\n",
    "image=img_to_array(image) \n",
    "image=image/255.0\n",
    "prediction_image=np.array(image)\n",
    "prediction_image= np.expand_dims(image, axis=0)\n",
    "\n",
    "prediction=model.predict(prediction_image)\n",
    "value=np.argmax(prediction)\n",
    "move_name=mapper(value)\n",
    "print(\"Prediction is {}.\".format(move_name))"
   ]
  },
  {
   "cell_type": "code",
   "execution_count": 30,
   "metadata": {},
   "outputs": [],
   "source": [
    "# This prediction is correct as well!!"
   ]
  }
 ],
 "metadata": {
  "kernelspec": {
   "display_name": "Python 3",
   "language": "python",
   "name": "python3"
  },
  "language_info": {
   "codemirror_mode": {
    "name": "ipython",
    "version": 3
   },
   "file_extension": ".py",
   "mimetype": "text/x-python",
   "name": "python",
   "nbconvert_exporter": "python",
   "pygments_lexer": "ipython3",
   "version": "3.8.5"
  }
 },
 "nbformat": 4,
 "nbformat_minor": 4
}
